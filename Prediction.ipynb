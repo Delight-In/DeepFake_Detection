{
  "cells": [
    {
      "cell_type": "code",
      "execution_count": null,
      "metadata": {
        "id": "RxxwGgc14OkI"
      },
      "outputs": [],
      "source": [
        "import tensorflow as tf\n",
        "from tensorflow.keras.preprocessing import image as keras_image\n",
        "from tensorflow.keras.applications.inception_v3 import preprocess_input\n",
        "import cv2\n",
        "import numpy as np\n",
        "\n",
        "# Define image transformations (same as used during training)\n",
        "def preprocess_image(img):\n",
        "    img = cv2.resize(img, (224, 224))  # Resize to the size your model expects\n",
        "    img = cv2.cvtColor(img, cv2.COLOR_BGR2RGB)  # Convert BGR to RGB\n",
        "    img = keras_image.img_to_array(img)  # Convert image to array\n",
        "    img = np.expand_dims(img, axis=0)  # Add batch dimension\n",
        "    img = preprocess_input(img)  # Preprocess the image (e.g., normalization)\n",
        "    return img\n",
        "\n",
        "# Load the trained model\n",
        "model = tf.keras.models.load_model('/content/model (1).keras')\n",
        "\n",
        "# Function to process the video and classify each frame\n",
        "def predict_video(video_path, model):\n",
        "    cap = cv2.VideoCapture(video_path)\n",
        "    frame_count = 0\n",
        "    real_count = 0\n",
        "    spoof_count = 0\n",
        "\n",
        "    while cap.isOpened():\n",
        "        ret, frame = cap.read()\n",
        "        if not ret:\n",
        "            break\n",
        "\n",
        "        frame_count += 1\n",
        "\n",
        "        # Preprocess the frame\n",
        "        image = preprocess_image(frame)\n",
        "\n",
        "        # Make prediction\n",
        "        predictions = model.predict(image)\n",
        "        predicted = np.argmax(predictions)\n",
        "\n",
        "        if predicted == 0:\n",
        "            real_count += 1\n",
        "        else:\n",
        "            spoof_count += 1\n",
        "\n",
        "    cap.release()\n",
        "\n",
        "    # Final decision based on majority vote across all frames\n",
        "    if real_count > spoof_count:\n",
        "        print(f\"Result: Real video ({real_count} real frames, {spoof_count} deepfake frames)\")\n",
        "        return \"Real\"\n",
        "    else:\n",
        "        print(f\"Result: Spoof video ({real_count} real frames, {spoof_count} deepfake frames)\")\n",
        "        return \"Fake\"\n",
        "\n",
        "# Test the video\n",
        "video_path = \"speech_happy__JZUXXFRB.mp4\"\n",
        "result = predict_video(video_path, model)\n"
      ]
    },
    {
      "cell_type": "code",
      "execution_count": null,
      "metadata": {
        "id": "Eo5aum1kCpQx"
      },
      "outputs": [],
      "source": []
    }
  ],
  "metadata": {
    "colab": {
      "provenance": [],
      "authorship_tag": "ABX9TyM4ABKoMqswqVIAHT/+TIB5"
    },
    "kernelspec": {
      "display_name": "Python 3",
      "name": "python3"
    },
    "language_info": {
      "name": "python"
    }
  },
  "nbformat": 4,
  "nbformat_minor": 0
}