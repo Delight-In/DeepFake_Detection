{
  "metadata": {
    "kernelspec": {
      "display_name": "Python 3",
      "name": "python3"
    },
    "language_info": {
      "name": "python",
      "version": "3.10.14",
      "mimetype": "text/x-python",
      "codemirror_mode": {
        "name": "ipython",
        "version": 3
      },
      "pygments_lexer": "ipython3",
      "nbconvert_exporter": "python",
      "file_extension": ".py"
    },
    "kaggle": {
      "accelerator": "nvidiaTeslaT4",
      "dataSources": [
        {
          "sourceId": 37705,
          "sourceType": "datasetVersion",
          "datasetId": 29561
        },
        {
          "sourceId": 4509555,
          "sourceType": "datasetVersion",
          "datasetId": 2635620
        },
        {
          "sourceId": 4510138,
          "sourceType": "datasetVersion",
          "datasetId": 2635974
        },
        {
          "sourceId": 5380830,
          "sourceType": "datasetVersion",
          "datasetId": 3120670
        },
        {
          "sourceId": 6462604,
          "sourceType": "kernelVersion"
        },
        {
          "sourceId": 118710,
          "sourceType": "modelInstanceVersion",
          "modelInstanceId": 99847,
          "modelId": 124020
        },
        {
          "sourceId": 118938,
          "sourceType": "modelInstanceVersion",
          "modelInstanceId": 100019,
          "modelId": 124188
        }
      ],
      "dockerImageVersionId": 30762,
      "isInternetEnabled": false,
      "language": "python",
      "sourceType": "notebook",
      "isGpuEnabled": true
    },
    "colab": {
      "provenance": [],
      "gpuType": "T4"
    },
    "accelerator": "GPU"
  },
  "nbformat_minor": 0,
  "nbformat": 4,
  "cells": [
    {
      "cell_type": "code",
      "source": [
        "!kaggle datasets download -d reubensuju/celeb-df-v2"
      ],
      "metadata": {
        "id": "sMgehJzPVss-"
      },
      "execution_count": null,
      "outputs": []
    },
    {
      "cell_type": "code",
      "source": [
        "!unzip -q /content/celeb-df-v2.zip"
      ],
      "metadata": {
        "id": "PeZg-DpAh7xj"
      },
      "execution_count": null,
      "outputs": []
    },
    {
      "cell_type": "code",
      "source": [
        "import cv2\n",
        "import os\n",
        "import matplotlib.pyplot as plt\n",
        "import numpy as np\n",
        "\n",
        "# Create the directory if it doesn't exist\n",
        "os.makedirs(\"/content/frame\", exist_ok=True)\n",
        "\n",
        "cap = cv2.VideoCapture(\"/content/YouTube-real/00004.mp4\")\n",
        "c=1\n",
        "while cap.isOpened():\n",
        "  ret, frame = cap.read()\n",
        "  if ret:\n",
        "    cv2.imwrite(f\"/content/frame/frame{c}.jpg\", frame)\n",
        "    c+=1\n",
        "  else:\n",
        "    break\n",
        "\n",
        "cap.release()\n",
        "cv2.destroyAllWindows()\n"
      ],
      "metadata": {
        "id": "LQ9F34oiiXvN"
      },
      "execution_count": null,
      "outputs": []
    },
    {
      "cell_type": "code",
      "source": [
        "import shutil as s\n",
        "s.rmtree(\"/content/frame\")"
      ],
      "metadata": {
        "id": "jVxi2UsAj0jf"
      },
      "execution_count": null,
      "outputs": []
    },
    {
      "cell_type": "code",
      "source": [
        "import os\n",
        "import shutil\n",
        "\n",
        "def copy_videos(src_directory, dest_directory, limit=300):\n",
        "    # Ensure the destination directory exists\n",
        "    os.makedirs(dest_directory, exist_ok=True)\n",
        "\n",
        "    # Get all video files in the source directory\n",
        "    video_extensions = ('.mp4', '.mkv', '.avi', '.mov', '.wmv', '.flv')\n",
        "    video_files = [f for f in os.listdir(src_directory) if f.lower().endswith(video_extensions)]\n",
        "\n",
        "    # Copy up to the specified limit of video files\n",
        "    for i, video_file in enumerate(video_files):\n",
        "        if i >= limit:\n",
        "            break\n",
        "        src_path = os.path.join(src_directory, video_file)\n",
        "        dest_path = os.path.join(dest_directory, video_file)\n",
        "        shutil.copy2(src_path, dest_path)\n",
        "        print(f\"Copied: {video_file} to {dest_directory}\")\n",
        "\n",
        "# Example usage:\n",
        "copy_videos('/content/YouTube-real', '/content/Dataset/Real_Videos')\n",
        "copy_videos('/content/Celeb-synthesis', '/content/Dataset/Fake_Videos')\n"
      ],
      "metadata": {
        "id": "IByIBkWNl57U"
      },
      "execution_count": null,
      "outputs": []
    },
    {
      "cell_type": "code",
      "source": [
        "import os\n",
        "import cv2\n",
        "\n",
        "def video_to_frames(video_dir, output_dir, frame_limit=64):\n",
        "    \"\"\"\n",
        "    Converts videos in a given directory to frames, limiting to a specified number of frames.\n",
        "\n",
        "    Args:\n",
        "        video_dir (str): Path to the directory containing video files.\n",
        "        output_dir (str): Path to the directory where frames will be saved.\n",
        "        frame_limit (int): Maximum number of frames to extract from each video.\n",
        "\n",
        "    Returns:\n",
        "        None\n",
        "    \"\"\"\n",
        "    if not os.path.exists(output_dir):\n",
        "        os.makedirs(output_dir)\n",
        "\n",
        "    for filename in os.listdir(video_dir):\n",
        "        if filename.endswith(('.mp4', '.avi', '.mov', '.mkv')):  # Add more extensions as needed\n",
        "            video_path = os.path.join(video_dir, filename)\n",
        "            cap = cv2.VideoCapture(video_path)\n",
        "\n",
        "            frame_count = int(cap.get(cv2.CAP_PROP_FRAME_COUNT))\n",
        "            frame_interval = max(1, frame_count // frame_limit)  # Calculate frame interval\n",
        "\n",
        "            count = 0\n",
        "            saved_count = 0\n",
        "\n",
        "            while cap.isOpened() and saved_count < frame_limit:\n",
        "                ret, frame = cap.read()\n",
        "                if not ret:\n",
        "                    break\n",
        "\n",
        "                if count % frame_interval == 0:\n",
        "                    frame_filename = os.path.join(output_dir, f\"{os.path.splitext(filename)[0]}_frame{saved_count:04d}.jpg\")\n",
        "                    cv2.imwrite(frame_filename, frame)\n",
        "                    saved_count += 1\n",
        "\n",
        "                count += 1\n",
        "\n",
        "            cap.release()\n",
        "            print(f\"Processed {filename}: saved {saved_count} frames.\")\n",
        "\n",
        "    print(\"Processing complete.\")\n",
        "\n",
        "# Example usage:\n",
        "video_to_frames('/content/Dataset/Fake_Videos', '/content/Frames/Fake_Videos')\n",
        "video_to_frames('/content/Dataset/Real_Videos', '/content/Frames/Real_Videos')\n"
      ],
      "metadata": {
        "id": "UC6YYvXAm_Z7"
      },
      "execution_count": null,
      "outputs": []
    },
    {
      "cell_type": "code",
      "source": [
        "import cv2\n",
        "import os\n",
        "\n",
        "def detect_and_crop_faces(input_dir, output_dir, cascade_path='/content/haarcascade_frontalface_alt.xml'):\n",
        "    # Load Haar Cascade for face detection\n",
        "    face_cascade = cv2.CascadeClassifier(cascade_path)\n",
        "\n",
        "    # Create output directory if it doesn't exist\n",
        "    if not os.path.exists(output_dir):\n",
        "        os.makedirs(output_dir)\n",
        "\n",
        "    # Iterate through each file in the input directory\n",
        "    for filename in os.listdir(input_dir):\n",
        "        file_path = os.path.join(input_dir, filename)\n",
        "\n",
        "        # Read the image\n",
        "        image = cv2.imread(file_path)\n",
        "        if image is None:\n",
        "            print(f\"Could not read image: {file_path}\")\n",
        "            continue\n",
        "\n",
        "        # Convert image to grayscale\n",
        "        gray = cv2.cvtColor(image, cv2.COLOR_BGR2GRAY)\n",
        "\n",
        "        # Detect faces\n",
        "        faces = face_cascade.detectMultiScale(gray, scaleFactor=1.1, minNeighbors=5)\n",
        "\n",
        "        # Crop and save each detected face\n",
        "        for i, (x, y, w, h) in enumerate(faces):\n",
        "            face = image[y:y+h, x:x+w]\n",
        "            output_file_path = os.path.join(output_dir, f\"{os.path.splitext(filename)[0]}_face_{i}.jpg\")\n",
        "            cv2.imwrite(output_file_path, face)\n",
        "\n",
        "    print(\"Face detection and cropping completed.\")\n",
        "\n",
        "# Example usage\n",
        "detect_and_crop_faces(\"/content/Frames/Fake_Videos\", \"/content/Face_Cropped/Fake\")\n",
        "detect_and_crop_faces(\"/content/Frames/Real_Videos\", \"/content/Face_Cropped/Real\")\n"
      ],
      "metadata": {
        "id": "8FwngQj7o53k"
      },
      "execution_count": null,
      "outputs": []
    },
    {
      "cell_type": "code",
      "source": [
        "print(len(os.listdir(\"/content/Frames/Fake_Videos\")))\n",
        "print(len(os.listdir(\"/content/Frames/Real_Videos\")))\n",
        "print(len(os.listdir(\"/content/Face_Cropped/Fake\")))\n",
        "print(len(os.listdir(\"/content/Face_Cropped/Real\")))"
      ],
      "metadata": {
        "id": "bajWOWI_pt9F"
      },
      "execution_count": null,
      "outputs": []
    },
    {
      "cell_type": "code",
      "source": [
        "!zip -r dataset.zip /content/Dataset"
      ],
      "metadata": {
        "id": "UyNkADOHwSKp"
      },
      "execution_count": null,
      "outputs": []
    },
    {
      "cell_type": "code",
      "source": [],
      "metadata": {
        "id": "H3B1fPxnxBT2"
      },
      "execution_count": null,
      "outputs": []
    }
  ]
}